{
 "cells": [
  {
   "cell_type": "code",
   "execution_count": 1,
   "metadata": {
    "collapsed": true
   },
   "outputs": [],
   "source": [
    "import os\n",
    "\n",
    "import numpy as np\n",
    "import pandas as pd\n",
    "\n",
    "from test_clf import prepare_data\n",
    "from utils import load_config\n",
    "\n",
    "config = load_config(\"config.yaml\")\n",
    "\n",
    "DATA_DIR = config[\"data_dir\"]\n",
    "FP = config[\"fp_aug3\"]"
   ]
  },
  {
   "cell_type": "code",
   "execution_count": 2,
   "outputs": [],
   "source": [
    "# singles = pd.read_hdf(os.path.join(DATA_DIR, FP), key=config[\"singles_key\"])\n",
    "# binaries = pd.read_hdf(os.path.join(DATA_DIR, FP), key=config[\"binaries_key\"])\n",
    "# wavegrid = pd.read_hdf(os.path.join(DATA_DIR, FP), key=config[\"wavegrid_key\"])"
   ],
   "metadata": {
    "collapsed": false,
    "pycharm": {
     "name": "#%%\n"
    }
   }
  },
  {
   "cell_type": "code",
   "execution_count": 3,
   "outputs": [
    {
     "ename": "IndexError",
     "evalue": "only integers, slices (`:`), ellipsis (`...`), numpy.newaxis (`None`) and integer or boolean arrays are valid indices",
     "output_type": "error",
     "traceback": [
      "\u001B[0;31m---------------------------------------------------------------------------\u001B[0m",
      "\u001B[0;31mIndexError\u001B[0m                                Traceback (most recent call last)",
      "Input \u001B[0;32mIn [3]\u001B[0m, in \u001B[0;36m<cell line: 1>\u001B[0;34m()\u001B[0m\n\u001B[0;32m----> 1\u001B[0m \u001B[43mprepare_data\u001B[49m\u001B[43m(\u001B[49m\u001B[43mconfig\u001B[49m\u001B[43m[\u001B[49m\u001B[38;5;124;43m\"\u001B[39;49m\u001B[38;5;124;43mfp_aug3\u001B[39;49m\u001B[38;5;124;43m\"\u001B[39;49m\u001B[43m]\u001B[49m\u001B[43m,\u001B[49m\u001B[43m \u001B[49m\u001B[38;5;28;43;01mNone\u001B[39;49;00m\u001B[43m,\u001B[49m\u001B[43m \u001B[49m\u001B[38;5;28;43;01mNone\u001B[39;49;00m\u001B[43m,\u001B[49m\u001B[43m \u001B[49m\u001B[43m_add_noise\u001B[49m\u001B[38;5;241;43m=\u001B[39;49m\u001B[38;5;28;43;01mTrue\u001B[39;49;00m\u001B[43m,\u001B[49m\u001B[43m \u001B[49m\u001B[43msnr\u001B[49m\u001B[38;5;241;43m=\u001B[39;49m\u001B[38;5;28;43;01mTrue\u001B[39;49;00m\u001B[43m,\u001B[49m\u001B[43m \u001B[49m\u001B[43mtemplate_diffs\u001B[49m\u001B[38;5;241;43m=\u001B[39;49m\u001B[38;5;28;43;01mTrue\u001B[39;49;00m\u001B[43m,\u001B[49m\u001B[43m \u001B[49m\u001B[43mchisq\u001B[49m\u001B[38;5;241;43m=\u001B[39;49m\u001B[38;5;28;43;01mTrue\u001B[39;49;00m\u001B[43m,\u001B[49m\u001B[43m \u001B[49m\u001B[43mnew_version\u001B[49m\u001B[38;5;241;43m=\u001B[39;49m\u001B[38;5;28;43;01mTrue\u001B[39;49;00m\u001B[43m)\u001B[49m\n",
      "File \u001B[0;32m~/Code/cool_star/coolstar_ml/test_clf.py:140\u001B[0m, in \u001B[0;36mprepare_data\u001B[0;34m(f_name, binaries_filter, singles_filter, _add_noise, snr, template_diffs, chisq, new_version)\u001B[0m\n\u001B[1;32m    138\u001B[0m     type_min, type_max \u001B[38;5;241m=\u001B[39m singles_filter\n\u001B[1;32m    139\u001B[0m     _singles \u001B[38;5;241m=\u001B[39m filter_singles(_singles, type_min, type_max)\n\u001B[0;32m--> 140\u001B[0m _df \u001B[38;5;241m=\u001B[39m \u001B[43mfeature_engineering\u001B[49m\u001B[43m(\u001B[49m\n\u001B[1;32m    141\u001B[0m \u001B[43m    \u001B[49m\u001B[43m_singles\u001B[49m\u001B[43m,\u001B[49m\n\u001B[1;32m    142\u001B[0m \u001B[43m    \u001B[49m\u001B[43m_binaries\u001B[49m\u001B[43m,\u001B[49m\n\u001B[1;32m    143\u001B[0m \u001B[43m    \u001B[49m\u001B[43m_add_noise\u001B[49m\u001B[38;5;241;43m=\u001B[39;49m\u001B[43m_add_noise\u001B[49m\u001B[43m,\u001B[49m\n\u001B[1;32m    144\u001B[0m \u001B[43m    \u001B[49m\u001B[43msnr\u001B[49m\u001B[38;5;241;43m=\u001B[39;49m\u001B[43msnr\u001B[49m\u001B[43m,\u001B[49m\n\u001B[1;32m    145\u001B[0m \u001B[43m    \u001B[49m\u001B[43madd_template_diffs\u001B[49m\u001B[38;5;241;43m=\u001B[39;49m\u001B[43mtemplate_diffs\u001B[49m\u001B[43m,\u001B[49m\n\u001B[1;32m    146\u001B[0m \u001B[43m    \u001B[49m\u001B[43mchisq\u001B[49m\u001B[38;5;241;43m=\u001B[39;49m\u001B[43mchisq\u001B[49m\u001B[43m,\u001B[49m\n\u001B[1;32m    147\u001B[0m \u001B[43m\u001B[49m\u001B[43m)\u001B[49m\n\u001B[1;32m    148\u001B[0m \u001B[38;5;66;03m# print(f\"DataFrame shape: {_df.shape}\")\u001B[39;00m\n\u001B[1;32m    149\u001B[0m \u001B[38;5;28;01mreturn\u001B[39;00m _df\n",
      "File \u001B[0;32m~/Code/cool_star/coolstar_ml/feature_engineering.py:146\u001B[0m, in \u001B[0;36mfeature_engineering\u001B[0;34m(_singles, _binaries, _add_noise, snr, add_template_diffs, chisq)\u001B[0m\n\u001B[1;32m    144\u001B[0m \u001B[38;5;66;03m# Add the noise\u001B[39;00m\n\u001B[1;32m    145\u001B[0m \u001B[38;5;28;01mif\u001B[39;00m _add_noise:\n\u001B[0;32m--> 146\u001B[0m     _singles \u001B[38;5;241m=\u001B[39m \u001B[43madd_noise\u001B[49m\u001B[43m(\u001B[49m\u001B[43m_singles_flux\u001B[49m\u001B[43m,\u001B[49m\u001B[43m \u001B[49m\u001B[43m_singles_noise\u001B[49m\u001B[43m)\u001B[49m\n\u001B[1;32m    147\u001B[0m     _binaries \u001B[38;5;241m=\u001B[39m add_noise(_binaries_flux, _binaries_noise)\n\u001B[1;32m    149\u001B[0m \u001B[38;5;66;03m# Convert from NP array to DataFrame\u001B[39;00m\n",
      "File \u001B[0;32m~/Code/cool_star/coolstar_ml/feature_engineering.py:43\u001B[0m, in \u001B[0;36madd_noise\u001B[0;34m(flux_df, noise_df, scale_range)\u001B[0m\n\u001B[1;32m     39\u001B[0m scale \u001B[38;5;241m=\u001B[39m pd\u001B[38;5;241m.\u001B[39mSeries(\n\u001B[1;32m     40\u001B[0m     np\u001B[38;5;241m.\u001B[39mrandom\u001B[38;5;241m.\u001B[39muniform(noise_low, noise_high, size\u001B[38;5;241m=\u001B[39m\u001B[38;5;28mlen\u001B[39m(noise_df))\n\u001B[1;32m     41\u001B[0m )\n\u001B[1;32m     42\u001B[0m with_noise \u001B[38;5;241m=\u001B[39m np\u001B[38;5;241m.\u001B[39mrandom\u001B[38;5;241m.\u001B[39mnormal(flux_df, noise_df\u001B[38;5;241m.\u001B[39mabs()\u001B[38;5;241m.\u001B[39mmul(scale, axis\u001B[38;5;241m=\u001B[39m\u001B[38;5;241m0\u001B[39m))\n\u001B[0;32m---> 43\u001B[0m with_noise[\u001B[38;5;124m\"\u001B[39m\u001B[38;5;124mscale\u001B[39m\u001B[38;5;124m\"\u001B[39m] \u001B[38;5;241m=\u001B[39m scale\n\u001B[1;32m     44\u001B[0m \u001B[38;5;28;01mreturn\u001B[39;00m with_noise\n",
      "\u001B[0;31mIndexError\u001B[0m: only integers, slices (`:`), ellipsis (`...`), numpy.newaxis (`None`) and integer or boolean arrays are valid indices"
     ]
    }
   ],
   "source": [
    "prepare_data(config[\"fp_aug3\"], None, None, _add_noise=True, snr=True, template_diffs=True, chisq=True, new_version=True)"
   ],
   "metadata": {
    "collapsed": false,
    "pycharm": {
     "name": "#%%\n"
    }
   }
  },
  {
   "cell_type": "code",
   "execution_count": null,
   "outputs": [],
   "source": [],
   "metadata": {
    "collapsed": false,
    "pycharm": {
     "name": "#%%\n"
    }
   }
  }
 ],
 "metadata": {
  "kernelspec": {
   "name": "coolstar-dev",
   "language": "python",
   "display_name": "coolstar-dev"
  },
  "language_info": {
   "codemirror_mode": {
    "name": "ipython",
    "version": 2
   },
   "file_extension": ".py",
   "mimetype": "text/x-python",
   "name": "python",
   "nbconvert_exporter": "python",
   "pygments_lexer": "ipython2",
   "version": "2.7.6"
  }
 },
 "nbformat": 4,
 "nbformat_minor": 0
}

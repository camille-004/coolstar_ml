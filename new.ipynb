{
 "cells": [
  {
   "cell_type": "code",
   "execution_count": 14,
   "metadata": {
    "collapsed": true
   },
   "outputs": [],
   "source": [
    "import pandas as pd\n",
    "import matplotlib.pyplot as plt\n",
    "import numpy as np\n",
    "import seaborn as sns\n",
    "from scipy.stats import ks_2samp\n",
    "from sklearn import svm\n",
    "from sklearn.decomposition import PCA\n",
    "from sklearn.ensemble import RandomForestClassifier\n",
    "from sklearn.linear_model import LogisticRegression\n",
    "from sklearn.metrics import classification_report, f1_score\n",
    "from sklearn.model_selection import RandomizedSearchCV, train_test_split\n",
    "\n",
    "pd.options.mode.chained_assignment = None  # default='warn'"
   ]
  },
  {
   "cell_type": "code",
   "execution_count": 2,
   "outputs": [],
   "source": [
    "fp = \"data/spectral_templates_data_version_july15.h5\"\n",
    "\n",
    "singles_flux = pd.read_hdf(fp, key=\"singles_flux\")\n",
    "binaries_flux = pd.read_hdf(fp, key=\"binaries_flux\")\n",
    "\n",
    "singles_noise = pd.read_hdf(fp, key=\"singles_noise\")\n",
    "binaries_noise = pd.read_hdf(fp, key=\"binaries_noise\")\n",
    "\n",
    "singles_difference_spectrum = pd.read_hdf(fp, key=\"singles_difference_spectrum\")\n",
    "binaries_difference_spectrum = pd.read_hdf(fp, key=\"binaries_difference_spectrum\")"
   ],
   "metadata": {
    "collapsed": false,
    "pycharm": {
     "name": "#%%\n"
    }
   }
  },
  {
   "cell_type": "code",
   "execution_count": 3,
   "outputs": [
    {
     "data": {
      "text/plain": "((436, 443), (417, 443), (253, 443))"
     },
     "execution_count": 3,
     "metadata": {},
     "output_type": "execute_result"
    }
   ],
   "source": [
    "singles_flux.shape, singles_noise.shape, singles_difference_spectrum.shape"
   ],
   "metadata": {
    "collapsed": false,
    "pycharm": {
     "name": "#%%\n"
    }
   }
  },
  {
   "cell_type": "code",
   "execution_count": 4,
   "outputs": [
    {
     "data": {
      "text/plain": "   flux_0_noise  flux_1_noise  flux_2_noise  flux_3_noise  flux_4_noise  \\\n0      0.005428      0.005659      0.005690      0.005850      0.005947   \n1      0.034344      0.035064      0.033996      0.034829      0.033618   \n2      0.047652      0.030335      0.028437      0.038433      0.034301   \n3      0.011901      0.019064      0.012164      0.012932      0.009753   \n4      0.028819      0.027557      0.027452      0.026742      0.027310   \n\n   flux_5_noise  flux_6_noise  flux_7_noise  flux_8_noise  flux_9_noise  ...  \\\n0      0.005946      0.005955      0.005882      0.005778      0.005658  ...   \n1      0.032844      0.025544      0.027487      0.029544      0.030125  ...   \n2      0.022394      0.028870      0.037834      0.029561      0.026788  ...   \n3      0.009956      0.008267      0.011325      0.012165      0.014767  ...   \n4      0.026695      0.027350      0.026848      0.025786      0.024884  ...   \n\n   flux_432  flux_433  flux_434  flux_435  flux_436  flux_437  flux_438  \\\n0  0.218047  0.215337  0.215931  0.205811  0.202409  0.200154  0.205162   \n1  0.230284  0.206600  0.201257  0.200105  0.205926  0.200983  0.208295   \n2  0.226817  0.229087  0.207245  0.208434  0.211384  0.202791  0.202994   \n3  0.156008  0.157152  0.158078  0.160547  0.151297  0.149293  0.144747   \n4  0.254465  0.241278  0.246377  0.241199  0.262611  0.224629  0.229004   \n\n   flux_439  flux_440  spectral_type  \n0  0.200159  0.202379           M6.0  \n1  0.216014  0.224778           M6.0  \n2  0.216542  0.211448           M7.0  \n3  0.160000  0.148471           M6.0  \n4  0.243447  0.241497           M6.0  \n\n[5 rows x 1325 columns]",
      "text/html": "<div>\n<style scoped>\n    .dataframe tbody tr th:only-of-type {\n        vertical-align: middle;\n    }\n\n    .dataframe tbody tr th {\n        vertical-align: top;\n    }\n\n    .dataframe thead th {\n        text-align: right;\n    }\n</style>\n<table border=\"1\" class=\"dataframe\">\n  <thead>\n    <tr style=\"text-align: right;\">\n      <th></th>\n      <th>flux_0_noise</th>\n      <th>flux_1_noise</th>\n      <th>flux_2_noise</th>\n      <th>flux_3_noise</th>\n      <th>flux_4_noise</th>\n      <th>flux_5_noise</th>\n      <th>flux_6_noise</th>\n      <th>flux_7_noise</th>\n      <th>flux_8_noise</th>\n      <th>flux_9_noise</th>\n      <th>...</th>\n      <th>flux_432</th>\n      <th>flux_433</th>\n      <th>flux_434</th>\n      <th>flux_435</th>\n      <th>flux_436</th>\n      <th>flux_437</th>\n      <th>flux_438</th>\n      <th>flux_439</th>\n      <th>flux_440</th>\n      <th>spectral_type</th>\n    </tr>\n  </thead>\n  <tbody>\n    <tr>\n      <th>0</th>\n      <td>0.005428</td>\n      <td>0.005659</td>\n      <td>0.005690</td>\n      <td>0.005850</td>\n      <td>0.005947</td>\n      <td>0.005946</td>\n      <td>0.005955</td>\n      <td>0.005882</td>\n      <td>0.005778</td>\n      <td>0.005658</td>\n      <td>...</td>\n      <td>0.218047</td>\n      <td>0.215337</td>\n      <td>0.215931</td>\n      <td>0.205811</td>\n      <td>0.202409</td>\n      <td>0.200154</td>\n      <td>0.205162</td>\n      <td>0.200159</td>\n      <td>0.202379</td>\n      <td>M6.0</td>\n    </tr>\n    <tr>\n      <th>1</th>\n      <td>0.034344</td>\n      <td>0.035064</td>\n      <td>0.033996</td>\n      <td>0.034829</td>\n      <td>0.033618</td>\n      <td>0.032844</td>\n      <td>0.025544</td>\n      <td>0.027487</td>\n      <td>0.029544</td>\n      <td>0.030125</td>\n      <td>...</td>\n      <td>0.230284</td>\n      <td>0.206600</td>\n      <td>0.201257</td>\n      <td>0.200105</td>\n      <td>0.205926</td>\n      <td>0.200983</td>\n      <td>0.208295</td>\n      <td>0.216014</td>\n      <td>0.224778</td>\n      <td>M6.0</td>\n    </tr>\n    <tr>\n      <th>2</th>\n      <td>0.047652</td>\n      <td>0.030335</td>\n      <td>0.028437</td>\n      <td>0.038433</td>\n      <td>0.034301</td>\n      <td>0.022394</td>\n      <td>0.028870</td>\n      <td>0.037834</td>\n      <td>0.029561</td>\n      <td>0.026788</td>\n      <td>...</td>\n      <td>0.226817</td>\n      <td>0.229087</td>\n      <td>0.207245</td>\n      <td>0.208434</td>\n      <td>0.211384</td>\n      <td>0.202791</td>\n      <td>0.202994</td>\n      <td>0.216542</td>\n      <td>0.211448</td>\n      <td>M7.0</td>\n    </tr>\n    <tr>\n      <th>3</th>\n      <td>0.011901</td>\n      <td>0.019064</td>\n      <td>0.012164</td>\n      <td>0.012932</td>\n      <td>0.009753</td>\n      <td>0.009956</td>\n      <td>0.008267</td>\n      <td>0.011325</td>\n      <td>0.012165</td>\n      <td>0.014767</td>\n      <td>...</td>\n      <td>0.156008</td>\n      <td>0.157152</td>\n      <td>0.158078</td>\n      <td>0.160547</td>\n      <td>0.151297</td>\n      <td>0.149293</td>\n      <td>0.144747</td>\n      <td>0.160000</td>\n      <td>0.148471</td>\n      <td>M6.0</td>\n    </tr>\n    <tr>\n      <th>4</th>\n      <td>0.028819</td>\n      <td>0.027557</td>\n      <td>0.027452</td>\n      <td>0.026742</td>\n      <td>0.027310</td>\n      <td>0.026695</td>\n      <td>0.027350</td>\n      <td>0.026848</td>\n      <td>0.025786</td>\n      <td>0.024884</td>\n      <td>...</td>\n      <td>0.254465</td>\n      <td>0.241278</td>\n      <td>0.246377</td>\n      <td>0.241199</td>\n      <td>0.262611</td>\n      <td>0.224629</td>\n      <td>0.229004</td>\n      <td>0.243447</td>\n      <td>0.241497</td>\n      <td>M6.0</td>\n    </tr>\n  </tbody>\n</table>\n<p>5 rows × 1325 columns</p>\n</div>"
     },
     "execution_count": 4,
     "metadata": {},
     "output_type": "execute_result"
    }
   ],
   "source": [
    "singles_flux_dedup = singles_flux.drop_duplicates(subset=\"object_name\")\n",
    "singles_noise_dedup = singles_noise.drop_duplicates(subset=\"object_name\")\n",
    "singles_difference_spectrum_dedup = singles_difference_spectrum.drop_duplicates(\n",
    "    subset=\"object_name\"\n",
    ")\n",
    "\n",
    "singles_merged = singles_noise_dedup.merge(\n",
    "    singles_difference_spectrum_dedup, on=\"object_name\", suffixes=(\"_noise\", \"_diff\")\n",
    ")\n",
    "singles_merged = singles_merged.merge(singles_flux_dedup, on=\"object_name\")\n",
    "singles_merged = singles_merged.drop(\n",
    "    columns=[\"spectral_type_noise\", \"spectral_type_diff\"]\n",
    ")\n",
    "singles_merged.head()"
   ],
   "metadata": {
    "collapsed": false,
    "pycharm": {
     "name": "#%%\n"
    }
   }
  },
  {
   "cell_type": "code",
   "execution_count": 5,
   "outputs": [
    {
     "data": {
      "text/plain": "     flux_0_noise  flux_1_noise  flux_2_noise  flux_3_noise  flux_4_noise  \\\n194      0.025564      0.025066      0.024419      0.023798      0.023288   \n505      0.021880      0.021989      0.021494      0.021660      0.021027   \n510      0.007891      0.007888      0.007635      0.007660      0.007616   \n704      0.034344      0.035064      0.033996      0.034829      0.033618   \n755      0.034344      0.035064      0.033996      0.034829      0.033618   \n\n     flux_5_noise  flux_6_noise  flux_7_noise  flux_8_noise  flux_9_noise  \\\n194      0.023100      0.023100      0.022864      0.022703      0.022501   \n505      0.020899      0.018598      0.019081      0.019170      0.019201   \n510      0.007712      0.007597      0.007608      0.007472      0.007309   \n704      0.032844      0.025544      0.027487      0.029544      0.030125   \n755      0.032844      0.025544      0.027487      0.029544      0.030125   \n\n     ...  flux_432  flux_433  flux_434  flux_435  flux_436  flux_437  \\\n194  ...  0.342569  0.327296  0.329594  0.332689  0.323894  0.311897   \n505  ...  0.299782  0.284738  0.284312  0.282232  0.278920  0.275603   \n510  ...  0.316078  0.305937  0.298460  0.292649  0.288328  0.292961   \n704  ...  0.230284  0.206600  0.201257  0.200105  0.205926  0.200983   \n755  ...  0.230284  0.206600  0.201257  0.200105  0.205926  0.200983   \n\n     flux_438  flux_439  flux_440  spectral_type  \n194  0.314376  0.313909  0.319669           22.0  \n505  0.277821  0.282118  0.279295           19.0  \n510  0.292411  0.293604  0.289886           21.0  \n704  0.208295  0.216014  0.224778           16.0  \n755  0.208295  0.216014  0.224778           16.0  \n\n[5 rows x 1325 columns]",
      "text/html": "<div>\n<style scoped>\n    .dataframe tbody tr th:only-of-type {\n        vertical-align: middle;\n    }\n\n    .dataframe tbody tr th {\n        vertical-align: top;\n    }\n\n    .dataframe thead th {\n        text-align: right;\n    }\n</style>\n<table border=\"1\" class=\"dataframe\">\n  <thead>\n    <tr style=\"text-align: right;\">\n      <th></th>\n      <th>flux_0_noise</th>\n      <th>flux_1_noise</th>\n      <th>flux_2_noise</th>\n      <th>flux_3_noise</th>\n      <th>flux_4_noise</th>\n      <th>flux_5_noise</th>\n      <th>flux_6_noise</th>\n      <th>flux_7_noise</th>\n      <th>flux_8_noise</th>\n      <th>flux_9_noise</th>\n      <th>...</th>\n      <th>flux_432</th>\n      <th>flux_433</th>\n      <th>flux_434</th>\n      <th>flux_435</th>\n      <th>flux_436</th>\n      <th>flux_437</th>\n      <th>flux_438</th>\n      <th>flux_439</th>\n      <th>flux_440</th>\n      <th>spectral_type</th>\n    </tr>\n  </thead>\n  <tbody>\n    <tr>\n      <th>194</th>\n      <td>0.025564</td>\n      <td>0.025066</td>\n      <td>0.024419</td>\n      <td>0.023798</td>\n      <td>0.023288</td>\n      <td>0.023100</td>\n      <td>0.023100</td>\n      <td>0.022864</td>\n      <td>0.022703</td>\n      <td>0.022501</td>\n      <td>...</td>\n      <td>0.342569</td>\n      <td>0.327296</td>\n      <td>0.329594</td>\n      <td>0.332689</td>\n      <td>0.323894</td>\n      <td>0.311897</td>\n      <td>0.314376</td>\n      <td>0.313909</td>\n      <td>0.319669</td>\n      <td>22.0</td>\n    </tr>\n    <tr>\n      <th>505</th>\n      <td>0.021880</td>\n      <td>0.021989</td>\n      <td>0.021494</td>\n      <td>0.021660</td>\n      <td>0.021027</td>\n      <td>0.020899</td>\n      <td>0.018598</td>\n      <td>0.019081</td>\n      <td>0.019170</td>\n      <td>0.019201</td>\n      <td>...</td>\n      <td>0.299782</td>\n      <td>0.284738</td>\n      <td>0.284312</td>\n      <td>0.282232</td>\n      <td>0.278920</td>\n      <td>0.275603</td>\n      <td>0.277821</td>\n      <td>0.282118</td>\n      <td>0.279295</td>\n      <td>19.0</td>\n    </tr>\n    <tr>\n      <th>510</th>\n      <td>0.007891</td>\n      <td>0.007888</td>\n      <td>0.007635</td>\n      <td>0.007660</td>\n      <td>0.007616</td>\n      <td>0.007712</td>\n      <td>0.007597</td>\n      <td>0.007608</td>\n      <td>0.007472</td>\n      <td>0.007309</td>\n      <td>...</td>\n      <td>0.316078</td>\n      <td>0.305937</td>\n      <td>0.298460</td>\n      <td>0.292649</td>\n      <td>0.288328</td>\n      <td>0.292961</td>\n      <td>0.292411</td>\n      <td>0.293604</td>\n      <td>0.289886</td>\n      <td>21.0</td>\n    </tr>\n    <tr>\n      <th>704</th>\n      <td>0.034344</td>\n      <td>0.035064</td>\n      <td>0.033996</td>\n      <td>0.034829</td>\n      <td>0.033618</td>\n      <td>0.032844</td>\n      <td>0.025544</td>\n      <td>0.027487</td>\n      <td>0.029544</td>\n      <td>0.030125</td>\n      <td>...</td>\n      <td>0.230284</td>\n      <td>0.206600</td>\n      <td>0.201257</td>\n      <td>0.200105</td>\n      <td>0.205926</td>\n      <td>0.200983</td>\n      <td>0.208295</td>\n      <td>0.216014</td>\n      <td>0.224778</td>\n      <td>16.0</td>\n    </tr>\n    <tr>\n      <th>755</th>\n      <td>0.034344</td>\n      <td>0.035064</td>\n      <td>0.033996</td>\n      <td>0.034829</td>\n      <td>0.033618</td>\n      <td>0.032844</td>\n      <td>0.025544</td>\n      <td>0.027487</td>\n      <td>0.029544</td>\n      <td>0.030125</td>\n      <td>...</td>\n      <td>0.230284</td>\n      <td>0.206600</td>\n      <td>0.201257</td>\n      <td>0.200105</td>\n      <td>0.205926</td>\n      <td>0.200983</td>\n      <td>0.208295</td>\n      <td>0.216014</td>\n      <td>0.224778</td>\n      <td>16.0</td>\n    </tr>\n  </tbody>\n</table>\n<p>5 rows × 1325 columns</p>\n</div>"
     },
     "execution_count": 5,
     "metadata": {},
     "output_type": "execute_result"
    }
   ],
   "source": [
    "binaries_merged = binaries_noise.merge(\n",
    "    binaries_difference_spectrum, on=\"object_name\", suffixes=(\"_noise\", \"_diff\")\n",
    ")\n",
    "binaries_merged = binaries_merged.merge(binaries_flux, on=\"object_name\")\n",
    "binaries_merged = binaries_merged[\n",
    "    binaries_merged[\"primary_type\"] > binaries_merged[\"secondary_type\"]\n",
    "    ]\n",
    "binaries_merged_no_ps = binaries_merged.drop(columns=[\"primary_type\", \"secondary_type\"])\n",
    "binaries_merged_no_ps = binaries_merged_no_ps.rename(columns={\"system_type\": \"spectral_type\"})\n",
    "binaries_merged_no_ps.head()"
   ],
   "metadata": {
    "collapsed": false,
    "pycharm": {
     "name": "#%%\n"
    }
   }
  },
  {
   "cell_type": "code",
   "execution_count": 6,
   "outputs": [
    {
     "data": {
      "text/plain": "      flux_0_noise  flux_1_noise  flux_2_noise  flux_3_noise  flux_4_noise  \\\n646       0.003591      0.003439      0.003526      0.003882      0.004058   \n2197      0.011932      0.012045      0.011865      0.011920      0.011721   \n2174      0.012238      0.012046      0.011745      0.011680      0.011668   \n1177      0.018182      0.007169      0.011133      0.021069      0.017189   \n2120      0.060024      0.067399      0.050768      0.065469      0.035490   \n\n      flux_5_noise  flux_6_noise  flux_7_noise  flux_8_noise  flux_9_noise  \\\n646       0.004203      0.004220      0.004264      0.004738      0.004807   \n2197      0.012001      0.011770      0.011728      0.011222      0.011116   \n2174      0.011490      0.010576      0.010565      0.010846      0.010346   \n1177      0.016862      0.007904      0.011596      0.020174      0.016349   \n2120      0.022637      0.060846      0.039452      0.044538      0.023067   \n\n      ...  flux_433  flux_434  flux_435  flux_436  flux_437  flux_438  \\\n646   ...  0.351962  0.347226  0.340382  0.337055  0.339132  0.339610   \n2197  ...  0.258551  0.259702  0.250690  0.247691  0.244379  0.254603   \n2174  ...  0.268458  0.259801  0.253817  0.250789  0.252006  0.256773   \n1177  ...  0.441302  0.426602  0.428107  0.420892  0.425011  0.429923   \n2120  ...  0.232762  0.225982  0.249831  0.234588  0.232952  0.266016   \n\n      flux_439  flux_440  spectral_type  single  \n646   0.338913  0.337870           24.0       0  \n2197  0.252281  0.247176           19.0       1  \n2174  0.258140  0.256982           19.0       1  \n1177  0.422048  0.424256           28.0       0  \n2120  0.228038  0.263454           30.0       0  \n\n[5 rows x 1326 columns]",
      "text/html": "<div>\n<style scoped>\n    .dataframe tbody tr th:only-of-type {\n        vertical-align: middle;\n    }\n\n    .dataframe tbody tr th {\n        vertical-align: top;\n    }\n\n    .dataframe thead th {\n        text-align: right;\n    }\n</style>\n<table border=\"1\" class=\"dataframe\">\n  <thead>\n    <tr style=\"text-align: right;\">\n      <th></th>\n      <th>flux_0_noise</th>\n      <th>flux_1_noise</th>\n      <th>flux_2_noise</th>\n      <th>flux_3_noise</th>\n      <th>flux_4_noise</th>\n      <th>flux_5_noise</th>\n      <th>flux_6_noise</th>\n      <th>flux_7_noise</th>\n      <th>flux_8_noise</th>\n      <th>flux_9_noise</th>\n      <th>...</th>\n      <th>flux_433</th>\n      <th>flux_434</th>\n      <th>flux_435</th>\n      <th>flux_436</th>\n      <th>flux_437</th>\n      <th>flux_438</th>\n      <th>flux_439</th>\n      <th>flux_440</th>\n      <th>spectral_type</th>\n      <th>single</th>\n    </tr>\n  </thead>\n  <tbody>\n    <tr>\n      <th>646</th>\n      <td>0.003591</td>\n      <td>0.003439</td>\n      <td>0.003526</td>\n      <td>0.003882</td>\n      <td>0.004058</td>\n      <td>0.004203</td>\n      <td>0.004220</td>\n      <td>0.004264</td>\n      <td>0.004738</td>\n      <td>0.004807</td>\n      <td>...</td>\n      <td>0.351962</td>\n      <td>0.347226</td>\n      <td>0.340382</td>\n      <td>0.337055</td>\n      <td>0.339132</td>\n      <td>0.339610</td>\n      <td>0.338913</td>\n      <td>0.337870</td>\n      <td>24.0</td>\n      <td>0</td>\n    </tr>\n    <tr>\n      <th>2197</th>\n      <td>0.011932</td>\n      <td>0.012045</td>\n      <td>0.011865</td>\n      <td>0.011920</td>\n      <td>0.011721</td>\n      <td>0.012001</td>\n      <td>0.011770</td>\n      <td>0.011728</td>\n      <td>0.011222</td>\n      <td>0.011116</td>\n      <td>...</td>\n      <td>0.258551</td>\n      <td>0.259702</td>\n      <td>0.250690</td>\n      <td>0.247691</td>\n      <td>0.244379</td>\n      <td>0.254603</td>\n      <td>0.252281</td>\n      <td>0.247176</td>\n      <td>19.0</td>\n      <td>1</td>\n    </tr>\n    <tr>\n      <th>2174</th>\n      <td>0.012238</td>\n      <td>0.012046</td>\n      <td>0.011745</td>\n      <td>0.011680</td>\n      <td>0.011668</td>\n      <td>0.011490</td>\n      <td>0.010576</td>\n      <td>0.010565</td>\n      <td>0.010846</td>\n      <td>0.010346</td>\n      <td>...</td>\n      <td>0.268458</td>\n      <td>0.259801</td>\n      <td>0.253817</td>\n      <td>0.250789</td>\n      <td>0.252006</td>\n      <td>0.256773</td>\n      <td>0.258140</td>\n      <td>0.256982</td>\n      <td>19.0</td>\n      <td>1</td>\n    </tr>\n    <tr>\n      <th>1177</th>\n      <td>0.018182</td>\n      <td>0.007169</td>\n      <td>0.011133</td>\n      <td>0.021069</td>\n      <td>0.017189</td>\n      <td>0.016862</td>\n      <td>0.007904</td>\n      <td>0.011596</td>\n      <td>0.020174</td>\n      <td>0.016349</td>\n      <td>...</td>\n      <td>0.441302</td>\n      <td>0.426602</td>\n      <td>0.428107</td>\n      <td>0.420892</td>\n      <td>0.425011</td>\n      <td>0.429923</td>\n      <td>0.422048</td>\n      <td>0.424256</td>\n      <td>28.0</td>\n      <td>0</td>\n    </tr>\n    <tr>\n      <th>2120</th>\n      <td>0.060024</td>\n      <td>0.067399</td>\n      <td>0.050768</td>\n      <td>0.065469</td>\n      <td>0.035490</td>\n      <td>0.022637</td>\n      <td>0.060846</td>\n      <td>0.039452</td>\n      <td>0.044538</td>\n      <td>0.023067</td>\n      <td>...</td>\n      <td>0.232762</td>\n      <td>0.225982</td>\n      <td>0.249831</td>\n      <td>0.234588</td>\n      <td>0.232952</td>\n      <td>0.266016</td>\n      <td>0.228038</td>\n      <td>0.263454</td>\n      <td>30.0</td>\n      <td>0</td>\n    </tr>\n  </tbody>\n</table>\n<p>5 rows × 1326 columns</p>\n</div>"
     },
     "execution_count": 6,
     "metadata": {},
     "output_type": "execute_result"
    }
   ],
   "source": [
    "binaries_merged_no_ps[\"single\"] = 0\n",
    "singles_merged[\"single\"] = 1\n",
    "df = pd.concat([binaries_merged_no_ps, singles_merged]).reset_index(drop=True)\n",
    "df = df.sample(frac=1)\n",
    "\n",
    "type_map = {\"M\": 10, \"L\": 20, \"T\": 30}\n",
    "\n",
    "\n",
    "def condition(x):\n",
    "    if type(x) == str:\n",
    "        return int(x[1]) + type_map[x[0]]\n",
    "    else:\n",
    "        return x\n",
    "\n",
    "\n",
    "df[\"spectral_type\"] = df[\"spectral_type\"].apply(condition)\n",
    "df.head()"
   ],
   "metadata": {
    "collapsed": false,
    "pycharm": {
     "name": "#%%\n"
    }
   }
  },
  {
   "cell_type": "code",
   "execution_count": 7,
   "outputs": [
    {
     "data": {
      "text/plain": "(2373, 1326)"
     },
     "execution_count": 7,
     "metadata": {},
     "output_type": "execute_result"
    }
   ],
   "source": [
    "df.shape"
   ],
   "metadata": {
    "collapsed": false,
    "pycharm": {
     "name": "#%%\n"
    }
   }
  },
  {
   "cell_type": "code",
   "execution_count": 8,
   "outputs": [
    {
     "data": {
      "text/plain": "0    0.898862\n1    0.101138\nName: single, dtype: float64"
     },
     "execution_count": 8,
     "metadata": {},
     "output_type": "execute_result"
    }
   ],
   "source": [
    "df[\"single\"].value_counts(normalize=True)"
   ],
   "metadata": {
    "collapsed": false,
    "pycharm": {
     "name": "#%%\n"
    }
   }
  },
  {
   "cell_type": "code",
   "execution_count": 9,
   "outputs": [
    {
     "name": "stdout",
     "output_type": "stream",
     "text": [
      "Singles are 10.11% of the dataset.\n"
     ]
    }
   ],
   "source": [
    "pct_single = round(len(singles_merged) / (len(singles_merged) + len(binaries_merged)) * 100, 2)\n",
    "print(f\"Singles are {pct_single}% of the dataset.\")"
   ],
   "metadata": {
    "collapsed": false,
    "pycharm": {
     "name": "#%%\n"
    }
   }
  },
  {
   "cell_type": "code",
   "execution_count": 10,
   "outputs": [
    {
     "name": "stdout",
     "output_type": "stream",
     "text": [
      "              precision    recall  f1-score   support\n",
      "\n",
      "           0       0.90      0.94      0.92       534\n",
      "           1       0.12      0.07      0.09        60\n",
      "\n",
      "    accuracy                           0.86       594\n",
      "   macro avg       0.51      0.51      0.50       594\n",
      "weighted avg       0.82      0.86      0.84       594\n",
      "\n"
     ]
    }
   ],
   "source": [
    "X = df.drop(columns=[\"single\", \"object_name\"])\n",
    "y = df[\"single\"]\n",
    "X_train, X_test, y_train, y_test = train_test_split(X, y, stratify=y)\n",
    "\n",
    "clf = RandomForestClassifier()\n",
    "clf.fit(X_train, y_train)\n",
    "test_pred = clf.predict(X_test)\n",
    "print(classification_report(y_test, test_pred))"
   ],
   "metadata": {
    "collapsed": false,
    "pycharm": {
     "name": "#%%\n"
    }
   }
  },
  {
   "cell_type": "code",
   "execution_count": 11,
   "outputs": [],
   "source": [
    "# Under-sample binaries in training set\n",
    "X_train_idx = X_train.index\n",
    "df_train = df.iloc[X_train_idx]\n",
    "binary_idx = df_train[df_train[\"single\"] == 0].index\n",
    "random_idx = np.random.choice(binary_idx, df_train[\"single\"].sum(), replace=False)\n",
    "binaries_train = df_train.loc[random_idx]\n",
    "\n",
    "singles_train = df_train[df_train[\"single\"] == 1]\n",
    "\n",
    "df_train = pd.concat([singles_train, binaries_train]).reset_index(drop=True)\n",
    "df_train = df_train.sample(frac=1)\n",
    "\n",
    "X_train = df_train.drop(columns=[\"single\", \"object_name\"])\n",
    "y_train = df_train[\"single\"]"
   ],
   "metadata": {
    "collapsed": false,
    "pycharm": {
     "name": "#%%\n"
    }
   }
  },
  {
   "cell_type": "code",
   "execution_count": 473,
   "outputs": [
    {
     "name": "stdout",
     "output_type": "stream",
     "text": [
      "              precision    recall  f1-score   support\n",
      "\n",
      "           0       0.99      0.60      0.75       534\n",
      "           1       0.21      0.93      0.34        60\n",
      "\n",
      "    accuracy                           0.64       594\n",
      "   macro avg       0.60      0.77      0.55       594\n",
      "weighted avg       0.91      0.64      0.71       594\n",
      "\n"
     ]
    }
   ],
   "source": [
    "clf = RandomForestClassifier()\n",
    "clf.fit(X_train, y_train)\n",
    "test_pred = clf.predict(X_test)\n",
    "print(classification_report(y_test, test_pred))"
   ],
   "metadata": {
    "collapsed": false,
    "pycharm": {
     "name": "#%%\n"
    }
   }
  },
  {
   "cell_type": "code",
   "execution_count": 36,
   "outputs": [
    {
     "name": "stdout",
     "output_type": "stream",
     "text": [
      "-----M TYPES-----\n",
      "\n",
      "Number of singles: 240\n",
      "Number of binaries with type 16-19: 258\n",
      "\n",
      "After undersampling (training set only):\n",
      "Number of singles: 204\n",
      "Number of binaries: 204\n",
      "\n",
      "              precision    recall  f1-score   support\n",
      "\n",
      "           0       0.83      1.00      0.91        39\n",
      "           1       1.00      0.78      0.88        36\n",
      "\n",
      "    accuracy                           0.89        75\n",
      "   macro avg       0.91      0.89      0.89        75\n",
      "weighted avg       0.91      0.89      0.89        75\n",
      "\n",
      "              precision    recall  f1-score   support\n",
      "\n",
      "           0       0.83      1.00      0.91        39\n",
      "           1       1.00      0.78      0.88        36\n",
      "\n",
      "    accuracy                           0.89        75\n",
      "   macro avg       0.91      0.89      0.89        75\n",
      "weighted avg       0.91      0.89      0.89        75\n",
      "\n",
      "              precision    recall  f1-score   support\n",
      "\n",
      "           0       0.83      1.00      0.91        39\n",
      "           1       1.00      0.78      0.88        36\n",
      "\n",
      "    accuracy                           0.89        75\n",
      "   macro avg       0.91      0.89      0.89        75\n",
      "weighted avg       0.91      0.89      0.89        75\n",
      "\n",
      "              precision    recall  f1-score   support\n",
      "\n",
      "           0       0.83      1.00      0.91        39\n",
      "           1       1.00      0.78      0.88        36\n",
      "\n",
      "    accuracy                           0.89        75\n",
      "   macro avg       0.91      0.89      0.89        75\n",
      "weighted avg       0.91      0.89      0.89        75\n",
      "\n",
      "              precision    recall  f1-score   support\n",
      "\n",
      "           0       0.83      1.00      0.91        39\n",
      "           1       1.00      0.78      0.88        36\n",
      "\n",
      "    accuracy                           0.89        75\n",
      "   macro avg       0.91      0.89      0.89        75\n",
      "weighted avg       0.91      0.89      0.89        75\n",
      "\n",
      "Average F1 macro score: 89.0%, +/-0.0%\n",
      "\n",
      "-----L AND T TYPES-----\n",
      "\n",
      "Number of singles: 240\n",
      "Number of binaries with type 25-40: 795\n",
      "\n",
      "After undersampling (training set only):\n",
      "Number of singles: 204\n",
      "Number of binaries: 204\n",
      "\n",
      "              precision    recall  f1-score   support\n",
      "\n",
      "           0       0.95      0.99      0.97       120\n",
      "           1       0.97      0.83      0.90        36\n",
      "\n",
      "    accuracy                           0.96       156\n",
      "   macro avg       0.96      0.91      0.93       156\n",
      "weighted avg       0.96      0.96      0.95       156\n",
      "\n",
      "              precision    recall  f1-score   support\n",
      "\n",
      "           0       0.95      0.99      0.97       120\n",
      "           1       0.97      0.83      0.90        36\n",
      "\n",
      "    accuracy                           0.96       156\n",
      "   macro avg       0.96      0.91      0.93       156\n",
      "weighted avg       0.96      0.96      0.95       156\n",
      "\n",
      "              precision    recall  f1-score   support\n",
      "\n",
      "           0       0.95      0.99      0.97       120\n",
      "           1       0.97      0.83      0.90        36\n",
      "\n",
      "    accuracy                           0.96       156\n",
      "   macro avg       0.96      0.91      0.93       156\n",
      "weighted avg       0.96      0.96      0.95       156\n",
      "\n",
      "              precision    recall  f1-score   support\n",
      "\n",
      "           0       0.95      0.99      0.97       120\n",
      "           1       0.97      0.83      0.90        36\n",
      "\n",
      "    accuracy                           0.96       156\n",
      "   macro avg       0.96      0.91      0.93       156\n",
      "weighted avg       0.96      0.96      0.95       156\n",
      "\n",
      "              precision    recall  f1-score   support\n",
      "\n",
      "           0       0.95      0.99      0.97       120\n",
      "           1       0.97      0.83      0.90        36\n",
      "\n",
      "    accuracy                           0.96       156\n",
      "   macro avg       0.96      0.91      0.93       156\n",
      "weighted avg       0.96      0.96      0.95       156\n",
      "\n",
      "Average F1 macro score: 93.0%, +/-0.0%\n",
      "\n"
     ]
    }
   ],
   "source": [
    "def filter_spectral_type(min_type, max_type, split_single=True):\n",
    "    df_single = df[df[\"single\"] == 1]\n",
    "    df_binary = df[df[\"single\"] == 0]\n",
    "\n",
    "    if split_single:\n",
    "        df_single_filtered = df_single[\n",
    "            (df_single[\"spectral_type\"] >= min_type)\n",
    "            & (df_single[\"spectral_type\"] <= max_type)\n",
    "            ]\n",
    "        print(\n",
    "            f\"Number of singles with type {min_type}-{max_type}: {len(df_single_filtered)}\"\n",
    "        )\n",
    "    else:\n",
    "        df_single_filtered = df_single\n",
    "        print(\n",
    "            f\"Number of singles: {len(df_single_filtered)}\"\n",
    "        )\n",
    "\n",
    "\n",
    "    df_binary_filtered = df_binary[\n",
    "        (df_binary[\"spectral_type\"] >= min_type)\n",
    "        & (df_binary[\"spectral_type\"] <= max_type)\n",
    "        ]\n",
    "    print(\n",
    "        f\"Number of binaries with type {min_type}-{max_type}: {len(df_binary_filtered)}\\n\"\n",
    "    )\n",
    "\n",
    "    _df_filtered = pd.concat([df_binary_filtered, df_single_filtered]).reset_index(\n",
    "        drop=True\n",
    "    )\n",
    "    if \"object_name\" in _df_filtered.columns:\n",
    "        _df_filtered = _df_filtered.drop(columns=\"object_name\")\n",
    "    return _df_filtered\n",
    "\n",
    "\n",
    "def drop_features(\n",
    "        _df, drop_flux=False, drop_noise=False, drop_diff=False, drop_type=False\n",
    "):\n",
    "    assert not all([drop_flux, drop_noise, drop_diff, drop_type])\n",
    "    if drop_flux:\n",
    "        _df = _df.loc[:, ~_df.columns.str.contains(\"flux\")]\n",
    "    if drop_noise:\n",
    "        _df = _df.loc[:, ~_df.columns.str.contains(\"noise\")]\n",
    "    if drop_diff:\n",
    "        _df = _df.loc[:, ~_df.columns.str.contains(\"diff\")]\n",
    "    if drop_type:\n",
    "        _df = _df.drop(columns=\"spectral_type\")\n",
    "\n",
    "    return _df\n",
    "\n",
    "\n",
    "def _train_test_split(_df, random_undersample=True):\n",
    "    _X, _y = _df.drop(columns=[\"single\"]), _df[\"single\"]\n",
    "    _X_train, _X_test, _y_train, _y_test = train_test_split(\n",
    "        _X, _y, stratify=_y, random_state=42, test_size=0.15\n",
    "    )\n",
    "\n",
    "    if random_undersample:\n",
    "        _X_train_idx = _X_train.index\n",
    "        _df_train = _df.iloc[_X_train_idx]\n",
    "        _binary_idx = _df_train[_df_train[\"single\"] == 0].index\n",
    "\n",
    "        _random_idx = np.random.choice(_binary_idx, _y_train.sum(), replace=False)\n",
    "        _binaries_train = _df_train.loc[_random_idx]\n",
    "\n",
    "        _singles_train = _df_train[_df_train[\"single\"] == 1]\n",
    "        _df_train = pd.concat([_singles_train, _binaries_train]).reset_index(drop=True)\n",
    "        _df_train = _df_train.sample(frac=1)\n",
    "\n",
    "        _X_train = _df_train.drop(columns=[\"single\"])\n",
    "        _y_train = _df_train[\"single\"]\n",
    "        print(\"After undersampling (training set only):\")\n",
    "\n",
    "    print(f\"Number of singles: {_y_train.sum()}\")\n",
    "    print(f\"Number of binaries: {len(_y_train) - _y_train.sum()}\\n\")\n",
    "\n",
    "    return _X_train, _X_test, _y_train, _y_test\n",
    "\n",
    "\n",
    "def evaluate(_clf, data, report=False):\n",
    "    _X_train, _X_test, _y_train, _y_test = data\n",
    "    _clf.fit(_X_train, _y_train)\n",
    "    _test_pred = _clf.predict(_X_test)\n",
    "    if report:\n",
    "        print(classification_report(_y_test, _test_pred))\n",
    "    return f1_score(_y_test, _test_pred, average=\"macro\")\n",
    "\n",
    "\n",
    "# M0-M9\n",
    "print(\"-----M TYPES-----\\n\")\n",
    "df_filtered = filter_spectral_type(16, 19, False)\n",
    "df_filtered = drop_features(df_filtered, False, True, False, False)\n",
    "X_train_M, X_test_M, y_train_M, y_test_M = _train_test_split(df_filtered, True)\n",
    "scores = []\n",
    "for _ in range(5):\n",
    "    scores.append(\n",
    "        evaluate(svm.SVC(kernel=\"linear\"), (X_train_M, X_test_M, y_train_M, y_test_M), report=True)\n",
    "    )\n",
    "print(\n",
    "    f\"Average F1 macro score: {np.round(np.mean(scores), 2) * 100}%, +/-{np.round(np.std(scores), 2) * 100}%\\n\"\n",
    ")\n",
    "\n",
    "# L0-T9\n",
    "print(\"-----L AND T TYPES-----\\n\")\n",
    "df_filtered_2 = filter_spectral_type(25, 40, False)\n",
    "df_filtered_2 = drop_features(df_filtered_2, False, True, False, False)\n",
    "X_train, X_test, y_train, y_test = _train_test_split(df_filtered_2, True)\n",
    "scores = []\n",
    "for _ in range(5):\n",
    "    scores.append(\n",
    "        evaluate(svm.SVC(kernel=\"linear\"), (X_train, X_test, y_train, y_test), report=True)\n",
    "    )\n",
    "print(\n",
    "    f\"Average F1 macro score: {np.round(np.mean(scores), 2) * 100}%, +/-{np.round(np.std(scores), 2) * 100}%\\n\"\n",
    ")"
   ],
   "metadata": {
    "collapsed": false,
    "pycharm": {
     "name": "#%%\n"
    }
   }
  },
  {
   "cell_type": "code",
   "execution_count": 37,
   "outputs": [
    {
     "data": {
      "text/plain": "<AxesSubplot:>"
     },
     "execution_count": 37,
     "metadata": {},
     "output_type": "execute_result"
    },
    {
     "data": {
      "text/plain": "<Figure size 432x288 with 1 Axes>",
      "image/png": "[encoded data removed]"
     },
     "metadata": {
      "needs_background": "light"
     },
     "output_type": "display_data"
    }
   ],
   "source": [
    "train_binary_idx = y_train[y_train == 0].index\n",
    "train_ps_types = binaries_merged.iloc[train_binary_idx][[\"primary_type\", \"secondary_type\"]]\n",
    "train_ps_types[\"primary_type\"].hist()"
   ],
   "metadata": {
    "collapsed": false,
    "pycharm": {
     "name": "#%%\n"
    }
   }
  },
  {
   "cell_type": "code",
   "execution_count": 42,
   "outputs": [
    {
     "data": {
      "text/plain": "Text(0.5, 1.0, 'Primary Type Distribution')"
     },
     "execution_count": 42,
     "metadata": {},
     "output_type": "execute_result"
    },
    {
     "data": {
      "text/plain": "<Figure size 432x288 with 1 Axes>",
      "image/png": "[encoded data removed]"
     },
     "metadata": {
      "needs_background": "light"
     },
     "output_type": "display_data"
    }
   ],
   "source": [
    "binary_train_idx = pd.concat([X_train_M, X_train]).index\n",
    "train_ps_types = binaries_merged.iloc[binary_train_idx][[\"primary_type\", \"secondary_type\"]]\n",
    "train_ps_types[\"primary_type\"].hist()\n",
    "plt.title(\"Primary Type Distribution\")"
   ],
   "metadata": {
    "collapsed": false,
    "pycharm": {
     "name": "#%%\n"
    }
   }
  },
  {
   "cell_type": "code",
   "execution_count": 43,
   "outputs": [
    {
     "data": {
      "text/plain": "Text(0.5, 1.0, 'Secondary Type Distribution')"
     },
     "execution_count": 43,
     "metadata": {},
     "output_type": "execute_result"
    },
    {
     "data": {
      "text/plain": "<Figure size 432x288 with 1 Axes>",
      "image/png": "[encoded data removed]"
     },
     "metadata": {
      "needs_background": "light"
     },
     "output_type": "display_data"
    }
   ],
   "source": [
    "train_ps_types[\"secondary_type\"].hist()\n",
    "plt.title(\"Secondary Type Distribution\")"
   ],
   "metadata": {
    "collapsed": false,
    "pycharm": {
     "name": "#%%\n"
    }
   }
  },
  {
   "cell_type": "markdown",
   "source": [],
   "metadata": {
    "collapsed": false
   }
  },
  {
   "cell_type": "code",
   "execution_count": 529,
   "outputs": [
    {
     "name": "stdout",
     "output_type": "stream",
     "text": [
      "Number of singles: 240\n",
      "Number of binaries with type 16-19: 258\n",
      "\n",
      "After undersampling (training set only):\n",
      "Number of singles: 204\n",
      "Number of binaries: 204\n",
      "\n",
      "0.819672131147541\n",
      "0.8285714285714286\n"
     ]
    },
    {
     "data": {
      "text/plain": "<Figure size 432x288 with 1 Axes>",
      "image/png": "[encoded data removed]"
     },
     "metadata": {
      "needs_background": "light"
     },
     "output_type": "display_data"
    }
   ],
   "source": [
    "df_filtered = filter_spectral_type(16, 19, False)\n",
    "df_filtered = drop_features(df_filtered, False, False, False, False)\n",
    "X_train, X_test, y_train, y_test = _train_test_split(df_filtered, True)\n",
    "clf = svm.SVC(kernel=\"linear\")\n",
    "clf.fit(X_train, y_train)\n",
    "svm_preds = clf.predict(X_test)\n",
    "print(f1_score(svm_preds, y_test))\n",
    "print(f1_score(clf.predict(X_train), y_train))\n",
    "pca = PCA(n_components=2)\n",
    "Xt = pca.fit_transform(df_filtered.iloc[:, :-1])\n",
    "# pca.explained_variance_ratio_\n",
    "plt.scatter(Xt[:, 0], Xt[:, 1], c=df_filtered[\"single\"], s=500, alpha=0.5, cmap=\"Set1\");\n",
    "plt.title(\"M Types and All Singles\");"
   ],
   "metadata": {
    "collapsed": false,
    "pycharm": {
     "name": "#%%\n"
    }
   }
  },
  {
   "cell_type": "code",
   "execution_count": 13,
   "outputs": [
    {
     "name": "stdout",
     "output_type": "stream",
     "text": [
      "Number of singles: 240\n",
      "Number of binaries with type 25-40: 795\n",
      "\n",
      "After undersampling (training set only):\n",
      "Number of singles: 204\n",
      "Number of binaries: 204\n",
      "\n",
      "0.8695652173913043\n",
      "0.8115942028985508\n"
     ]
    },
    {
     "data": {
      "text/plain": "<Figure size 432x288 with 1 Axes>",
      "image/png": "[encoded data removed]"
     },
     "metadata": {
      "needs_background": "light"
     },
     "output_type": "display_data"
    }
   ],
   "source": [
    "df_filtered = filter_spectral_type(25, 40, False)\n",
    "df_filtered = drop_features(df_filtered, False, False, False, False)\n",
    "X_train, X_test, y_train, y_test = _train_test_split(df_filtered, True)\n",
    "clf = svm.SVC(kernel=\"linear\")\n",
    "clf.fit(X_train, y_train)\n",
    "svm_preds = clf.predict(X_test)\n",
    "print(f1_score(svm_preds, y_test))\n",
    "print(f1_score(clf.predict(X_train), y_train))\n",
    "pca = PCA(n_components=2)\n",
    "Xt = pca.fit_transform(df_filtered.iloc[:, :-1])\n",
    "# pca.explained_variance_ratio_\n",
    "plt.scatter(Xt[:, 0], Xt[:, 1], c=df_filtered[\"single\"], s=500, alpha=0.5, cmap=\"Set1\");\n",
    "plt.title(\"L5-T5 Types and All Singles\");"
   ],
   "metadata": {
    "collapsed": false,
    "pycharm": {
     "name": "#%%\n"
    }
   }
  },
  {
   "cell_type": "code",
   "execution_count": null,
   "outputs": [],
   "source": [
    "def filter_with_primary_secondary(\n",
    "        binaries_df,\n",
    "        singles_df,\n",
    "        min_single,\n",
    "        max_single,\n",
    "        min_primary,\n",
    "        max_primary,\n",
    "        min_secondary,\n",
    "        max_secondary,\n",
    "):\n",
    "    binaries_df[\"primary_type\"] = binaries_df[\"primary_type\"].apply(condition)\n",
    "    binaries_df[\"secondary_type\"] = binaries_df[\"secondary_type\"].apply(condition)\n",
    "    binaries_filtered = binaries_df[\n",
    "        (binaries_df[\"primary_type\"] >= min_primary)\n",
    "        & (binaries_df[\"primary_type\"] <= max_primary)\n",
    "        & (binaries_df[\"secondary_type\"] >= min_secondary)\n",
    "        & (binaries_df[\"secondary_type\"] <= max_secondary)\n",
    "        ]\n",
    "    if \"single\" not in binaries_filtered.columns:\n",
    "        binaries_filtered.loc[:, \"single\"] = 0\n",
    "    singles_df[\"spectral_type\"] = singles_df[\"spectral_type\"].apply(condition)\n",
    "    singles_filtered = singles_df[\n",
    "        (singles_df[\"spectral_type\"] >= min_single)\n",
    "        & (singles_df[\"spectral_type\"] <= max_single)\n",
    "        ]\n",
    "    if \"single\" not in singles_filtered.columns:\n",
    "        singles_filtered.loc[:, \"single\"] = 1\n",
    "    binaries_filtered = binaries_filtered.drop(\n",
    "        columns=[\"primary_type\", \"secondary_type\"]\n",
    "    ).rename(columns={\"system_type\": \"spectral_type\"})\n",
    "    _df = (\n",
    "        pd.concat([singles_filtered, binaries_filtered])\n",
    "            .sample(frac=1)\n",
    "            .reset_index(drop=True)\n",
    "    )\n",
    "    print(_df[\"single\"].value_counts())\n",
    "    print(_df.shape)\n",
    "    if \"object_name\" in _df.columns:\n",
    "        _df = _df.drop(columns=\"object_name\")\n",
    "\n",
    "    return _df"
   ],
   "metadata": {
    "collapsed": false,
    "pycharm": {
     "name": "#%%\n",
     "is_executing": true
    }
   }
  },
  {
   "cell_type": "code",
   "execution_count": null,
   "outputs": [],
   "source": [
    "df_filtered = filter_with_primary_secondary(\n",
    "    binaries_df=binaries_merged,\n",
    "    singles_df=singles_merged,\n",
    "    min_single=0,\n",
    "    max_single=40,\n",
    "    min_primary=10,\n",
    "    max_primary=19,\n",
    "    min_secondary=16,\n",
    "    max_secondary=19,\n",
    ")\n",
    "df_filtered = drop_features(df_filtered, False, False, True, False)\n",
    "X_train, X_test, y_train, y_test = _train_test_split(df_filtered, True)\n",
    "\n",
    "scores = []\n",
    "for _ in range(5):\n",
    "    scores.append(\n",
    "        evaluate(RandomForestClassifier(), (X_train, X_test, y_train, y_test), report=False)\n",
    "    )\n",
    "\n",
    "print(\n",
    "    f\"Average F1 macro score: {np.round(np.mean(scores), 2) * 100}%, +/-{np.round(np.std(scores), 2) * 100}%\\n\"\n",
    ")"
   ],
   "metadata": {
    "collapsed": false,
    "pycharm": {
     "name": "#%%\n",
     "is_executing": true
    }
   }
  },
  {
   "cell_type": "code",
   "execution_count": null,
   "outputs": [],
   "source": [
    "df = df_filtered\n",
    "singles = df[df[\"single\"] == 1]\n",
    "binaries = df[df[\"single\"] == 0]\n",
    "\n",
    "singles.loc[:, singles.columns.str.contains(\"noise\")].mean(axis=1).hist(color=\"black\")\n",
    "plt.title(\"Singles Differences Between Best Fit Template\");"
   ],
   "metadata": {
    "collapsed": false,
    "pycharm": {
     "name": "#%%\n"
    }
   }
  },
  {
   "cell_type": "code",
   "execution_count": null,
   "outputs": [],
   "source": [
    "binaries.loc[:, binaries.columns.str.contains(\"noise\")].mean(axis=1).hist(color=\"black\")\n",
    "plt.title(\"Binaries Differences Between Best Fit Template\");"
   ],
   "metadata": {
    "collapsed": false,
    "pycharm": {
     "name": "#%%\n"
    }
   }
  },
  {
   "cell_type": "code",
   "execution_count": null,
   "outputs": [],
   "source": [
    "mean_binary_diff = binaries.loc[:, binaries.columns.str.contains(\"noise\")].mean(axis=1)\n",
    "mean_single_diff = singles.loc[:, singles.columns.str.contains(\"noise\")].mean(axis=1)\n",
    "ks_2samp(mean_binary_diff, mean_single_diff)"
   ],
   "metadata": {
    "collapsed": false,
    "pycharm": {
     "name": "#%%\n"
    }
   }
  },
  {
   "cell_type": "code",
   "execution_count": null,
   "outputs": [],
   "source": [
    "raw = df.loc[:, ~df.columns.str.contains(\"noise|diff|type\")]\n",
    "\n",
    "\n",
    "def sample_plot(raw_df, n):\n",
    "    raw_single = raw_df[raw_df[\"single\"] == 1]\n",
    "    raw_binary = raw_df[raw_df[\"single\"] == 0]\n",
    "\n",
    "    fig, ax = plt.subplots(1, 2, figsize=(17, 6))\n",
    "    raw_single.iloc[:, :-1].sample(n).T.plot(color=\"blue\", ax=ax[0], title=\"Singles\")\n",
    "    raw_binary.iloc[:, :-1].sample(n).T.plot(color=\"green\", ax=ax[1], title=\"Binaries\")\n",
    "\n",
    "\n",
    "sample_plot(raw, 3)"
   ],
   "metadata": {
    "collapsed": false,
    "pycharm": {
     "name": "#%%\n"
    }
   }
  },
  {
   "cell_type": "code",
   "execution_count": null,
   "outputs": [],
   "source": [
    "binaries_merged[binaries_merged[\"primary_type\"] <= 19][\"primary_type\"].min()"
   ],
   "metadata": {
    "collapsed": false,
    "pycharm": {
     "name": "#%%\n"
    }
   }
  },
  {
   "cell_type": "code",
   "execution_count": null,
   "outputs": [],
   "source": [
    "binaries_merged[\"system_type\"].max()"
   ],
   "metadata": {
    "collapsed": false,
    "pycharm": {
     "name": "#%%\n"
    }
   }
  },
  {
   "cell_type": "code",
   "execution_count": null,
   "outputs": [],
   "source": [
    "binaries_merged[\"primary_type\"].hist()"
   ],
   "metadata": {
    "collapsed": false,
    "pycharm": {
     "name": "#%%\n"
    }
   }
  },
  {
   "cell_type": "code",
   "execution_count": null,
   "outputs": [],
   "source": [
    "binaries_merged[\"secondary_type\"].hist()"
   ],
   "metadata": {
    "collapsed": false,
    "pycharm": {
     "name": "#%%\n"
    }
   }
  },
  {
   "cell_type": "code",
   "execution_count": null,
   "outputs": [],
   "source": [],
   "metadata": {
    "collapsed": false,
    "pycharm": {
     "name": "#%%\n"
    }
   }
  }
 ],
 "metadata": {
  "kernelspec": {
   "display_name": "Python 3",
   "language": "python",
   "name": "python3"
  },
  "language_info": {
   "codemirror_mode": {
    "name": "ipython",
    "version": 2
   },
   "file_extension": ".py",
   "mimetype": "text/x-python",
   "name": "python",
   "nbconvert_exporter": "python",
   "pygments_lexer": "ipython2",
   "version": "2.7.6"
  }
 },
 "nbformat": 4,
 "nbformat_minor": 0
}
